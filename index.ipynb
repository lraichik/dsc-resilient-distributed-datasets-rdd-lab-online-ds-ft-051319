{
 "cells": [
  {
   "cell_type": "markdown",
   "metadata": {},
   "source": [
    "## Resilient Distributed Datasets (RDDs) - Lab\n",
    "\n",
    "Resilient Distributed Datasets (RDD) are fundamental data structures of Spark. An RDD is, essentially, the Spark representation of a set of data, spread across multiple machines, with APIs to let you act on it. An RDD can come from any data source, e.g. text files, a database, a JSON file, etc.\n",
    "\n",
    "\n",
    "## Objectives\n",
    "\n",
    "You will be able to:\n",
    "\n",
    "* Describe RDDs as fundamental storage units in the Spark computing environment\n",
    "* Create RDDs from Python collections\n",
    "* Set number of partitions for parallelizing RDDs\n",
    "* Review an RDD's dependency graph at different stages of processing. \n",
    "* Apply the map(func) transformation to a given function on all elements of an RDD in different partitions\n",
    "* Use collect() action to trigger the processing stage of spark's lazy evaluation\n",
    "* Use count() action to calculate the number of elements of a parallelized RDD\n",
    "* Use filter(func) to filter unwanted data from RDDs\n",
    "* Develop an understanding of Python's lambda functions for RDDs processing\n"
   ]
  },
  {
   "cell_type": "markdown",
   "metadata": {},
   "source": [
    "## What are RDDs? \n",
    "\n",
    "To get a better understanding of RDDs, let's break down each one of the components of the acronym RDD:\n",
    "\n",
    "Resilient: RDDs are considered \"resilient\" because they have built-in fault tolerance. This means that even if one of the nodes goes offline, RDDs will be able to restore the data. This is already a huge advantage compared to standard storage. If a standard computer dies will performing an operation, all of its memory will be lost in the process. With RDDs, multiple nodes can go offline, and the action will still be held in working memory.\n",
    "\n",
    "Distributed: The data is contained on multiple nodes of a cluster-computing operation. It is efficiently partitioned to allow for parallelism.\n",
    "\n",
    "Dataset: The dataset has been * partitioned * across the multiple nodes. \n",
    "\n",
    "RDDs are the building block upon which more high-level Spark operations are based upon. Chances are, if you are performing an action using Spark, the operation involves RDDs. \n",
    "\n",
    "\n",
    "\n",
    "Key Characteristics of RDDs:\n",
    "\n",
    "- Immutable: Once an RDD is created, it cannot be modified.\n",
    "- Lazily Evaluated: RDDs will not be evaluated until an action is triggered. Essentially, when RDDs are created, they are programmed to perform some action, but that function will not get activated until it is explicitly called. The reason for lazy evaluation is that allows users to organize the actions of their Spark program into smaller actions. It also saves unnecessary computation and memory load.\n",
    "- In-Memory: The operations in Spark are performed in-memory rather than in the Database. This is what allows Spark to perform fast operations with very large quantities of data.\n",
    "\n",
    "\n"
   ]
  },
  {
   "cell_type": "markdown",
   "metadata": {},
   "source": [
    "### RDD Transformations vs Actions\n",
    "\n",
    "In Spark, we first create a __base RDD__ and then apply one or more transformations to that base RDD following our processing needs. Being immutable means, **once an RDD is created, it cannot be changed**. As a result, **each transformation of an RDD creates a new RDD**. Finally, we can apply one or more **actions** to the RDDs. Spark uses lazy evaluation, so transformations are not actually executed until an action occurs.\n",
    "\n",
    "\n",
    "<img src=\"./images/rdd_diagram.png\" width=500>"
   ]
  },
  {
   "cell_type": "markdown",
   "metadata": {},
   "source": [
    "### Transformations\n",
    "\n",
    "Transformations create a new data set from an existing one by passing each dataset element through a function and returning a new RDD representing the results. In short, creating an RDD from an existing RDD is ‘transformation’.\n",
    "All transformations in Spark are lazy. They do not compute their results right away. Instead, they just remember the transformations applied to some base data set (e.g. a file). The transformations are only computed when an action requires a result that needs to be returned to the driver program.\n",
    "A transformation is an RDD that returns another RDD, like map, flatMap, filter, reduceByKey, join, cogroup, etc.\n",
    "\n",
    "### Actions\n",
    "Actions return final results of RDD computations. Actions trigger execution using lineage graph to load the data into original RDD and carry out all intermediate transformations and return the final results to the Driver program or writes it out to the file system. An action returns a value (to a Spark driver - the user program).\n",
    "\n",
    "Here are some of key transformations and actions that we will explore.\n",
    "\n",
    "\n",
    "| Transformations   | Actions       |\n",
    "|-------------------|---------------|\n",
    "| map(func)         | reduce(func)  |\n",
    "| filter(func)      | collect()     |\n",
    "| groupByKey()      | count()       |\n",
    "| reduceByKey(func) | first()       |\n",
    "| mapValues(func)   | take()        |\n",
    "| sample()          | countByKey()  |\n",
    "| distinct()        | foreach(func) |\n",
    "| sortByKey()       |               |\n"
   ]
  },
  {
   "cell_type": "markdown",
   "metadata": {},
   "source": [
    "Let's see how transformations and actions work through a simple example. In this example, we will perform several actions and transformations on RDDs in order to obtain a better understanding of Spark processing. \n",
    "\n",
    "### Create a Python collection \n",
    "\n",
    "We need some data to start experimenting with RDDs. Let's create some sample data and see how RDDs handle it. To practice working with RDDs, we're going to use a simple Python list.\n",
    "\n",
    "- Create a Python list `data` of integers between 1 and 1000 using the `range()` function. \n",
    "- Sanity check: confirm the length of the list (it should be 1000)"
   ]
  },
  {
   "cell_type": "code",
   "execution_count": 2,
   "metadata": {},
   "outputs": [
    {
     "data": {
      "text/plain": [
       "1000"
      ]
     },
     "execution_count": 2,
     "metadata": {},
     "output_type": "execute_result"
    }
   ],
   "source": [
    "data = range(1,1001)\n",
    "len(data)\n",
    "\n",
    "#1000"
   ]
  },
  {
   "cell_type": "markdown",
   "metadata": {},
   "source": [
    "### Initialize an RDD\n",
    "\n",
    "When using Spark to make computations, datasets are treated as lists of entries. Those lists are split into different partitions across different cores or different computers. Each list of data held in memory is a partition of the RDD. The reason why Spark is able to make computations far faster than other big data processing languages is that it allows all data to be stored __in-memory__, which allows for easy access to the data and, in turn, high-speed processing. Here is an example of how the alphabet might be split into different RDDs and held across a distributed collection of nodes:\n",
    "\n",
    "<img src =\"./images/partitions_1.png\" width =\"500\">  \n",
    "To initialize an RDD, first import `pyspark` and then create a SparkContext assigned to the variable `sc`. Use 'local[*]' as the master."
   ]
  },
  {
   "cell_type": "code",
   "execution_count": 3,
   "metadata": {},
   "outputs": [],
   "source": [
    "import pyspark\n",
    "sc = pyspark.SparkContext('local[*]')"
   ]
  },
  {
   "cell_type": "markdown",
   "metadata": {},
   "source": [
    "Once you've created the SparkContext, you can use the `parallelize` method to create an rdd will distribute the list of numbers across multiple cores. Here, create one called `rdd` with 10 partitions using `data` as the collection you are parallelizing."
   ]
  },
  {
   "cell_type": "code",
   "execution_count": 4,
   "metadata": {},
   "outputs": [
    {
     "name": "stdout",
     "output_type": "stream",
     "text": [
      "<class 'pyspark.rdd.PipelinedRDD'>\n"
     ]
    }
   ],
   "source": [
    "rdd = sc.parallelize(data, 10)\n",
    "print(type(rdd))\n",
    "# <class 'pyspark.rdd.RDD'>"
   ]
  },
  {
   "cell_type": "markdown",
   "metadata": {},
   "source": [
    "Determine how many partitions are being used with this RDD with the getNumPartitions method."
   ]
  },
  {
   "cell_type": "code",
   "execution_count": 5,
   "metadata": {},
   "outputs": [
    {
     "data": {
      "text/plain": [
       "10"
      ]
     },
     "execution_count": 5,
     "metadata": {},
     "output_type": "execute_result"
    }
   ],
   "source": [
    "rdd.getNumPartitions()\n",
    "# 10"
   ]
  },
  {
   "cell_type": "markdown",
   "metadata": {},
   "source": [
    "### Basic descriptive RDD actions\n",
    "\n",
    "Let's perform some basic operations on our RDD. In the cell below, use the methods:\n",
    "* `count`: returns the total count of items in the RDD \n",
    "* `first`: returns the first item in the RDD\n",
    "* `take`: returns the first n items in the RDD\n",
    "* `top`: returns the top n items\n",
    "* `collect`: returns everything from your RDD\n",
    "\n",
    "\n",
    "It's important to note that in a big data context, calling the collect method will often take a very long time to execute and should be handled with care!"
   ]
  },
  {
   "cell_type": "code",
   "execution_count": 6,
   "metadata": {
    "scrolled": true
   },
   "outputs": [
    {
     "data": {
      "text/plain": [
       "1000"
      ]
     },
     "execution_count": 6,
     "metadata": {},
     "output_type": "execute_result"
    }
   ],
   "source": [
    "# count\n",
    "rdd.count()"
   ]
  },
  {
   "cell_type": "code",
   "execution_count": 8,
   "metadata": {},
   "outputs": [
    {
     "data": {
      "text/plain": [
       "1"
      ]
     },
     "execution_count": 8,
     "metadata": {},
     "output_type": "execute_result"
    }
   ],
   "source": [
    "# first\n",
    "rdd.first()"
   ]
  },
  {
   "cell_type": "code",
   "execution_count": 11,
   "metadata": {},
   "outputs": [
    {
     "data": {
      "text/plain": [
       "[1, 2, 3, 4, 5]"
      ]
     },
     "execution_count": 11,
     "metadata": {},
     "output_type": "execute_result"
    }
   ],
   "source": [
    "# take\n",
    "rdd.take(5)"
   ]
  },
  {
   "cell_type": "code",
   "execution_count": 12,
   "metadata": {},
   "outputs": [
    {
     "data": {
      "text/plain": [
       "[1000, 999, 998, 997, 996]"
      ]
     },
     "execution_count": 12,
     "metadata": {},
     "output_type": "execute_result"
    }
   ],
   "source": [
    "# top\n",
    "rdd.top(5)"
   ]
  },
  {
   "cell_type": "code",
   "execution_count": 14,
   "metadata": {
    "scrolled": true
   },
   "outputs": [
    {
     "name": "stdout",
     "output_type": "stream",
     "text": [
      "[1, 2, 3, 4, 5, 6, 7, 8, 9, 10, 11, 12, 13, 14, 15, 16, 17, 18, 19, 20, 21, 22, 23, 24, 25, 26, 27, 28, 29, 30, 31, 32, 33, 34, 35, 36, 37, 38, 39, 40, 41, 42, 43, 44, 45, 46, 47, 48, 49, 50, 51, 52, 53, 54, 55, 56, 57, 58, 59, 60, 61, 62, 63, 64, 65, 66, 67, 68, 69, 70, 71, 72, 73, 74, 75, 76, 77, 78, 79, 80, 81, 82, 83, 84, 85, 86, 87, 88, 89, 90, 91, 92, 93, 94, 95, 96, 97, 98, 99, 100, 101, 102, 103, 104, 105, 106, 107, 108, 109, 110, 111, 112, 113, 114, 115, 116, 117, 118, 119, 120, 121, 122, 123, 124, 125, 126, 127, 128, 129, 130, 131, 132, 133, 134, 135, 136, 137, 138, 139, 140, 141, 142, 143, 144, 145, 146, 147, 148, 149, 150, 151, 152, 153, 154, 155, 156, 157, 158, 159, 160, 161, 162, 163, 164, 165, 166, 167, 168, 169, 170, 171, 172, 173, 174, 175, 176, 177, 178, 179, 180, 181, 182, 183, 184, 185, 186, 187, 188, 189, 190, 191, 192, 193, 194, 195, 196, 197, 198, 199, 200, 201, 202, 203, 204, 205, 206, 207, 208, 209, 210, 211, 212, 213, 214, 215, 216, 217, 218, 219, 220, 221, 222, 223, 224, 225, 226, 227, 228, 229, 230, 231, 232, 233, 234, 235, 236, 237, 238, 239, 240, 241, 242, 243, 244, 245, 246, 247, 248, 249, 250, 251, 252, 253, 254, 255, 256, 257, 258, 259, 260, 261, 262, 263, 264, 265, 266, 267, 268, 269, 270, 271, 272, 273, 274, 275, 276, 277, 278, 279, 280, 281, 282, 283, 284, 285, 286, 287, 288, 289, 290, 291, 292, 293, 294, 295, 296, 297, 298, 299, 300, 301, 302, 303, 304, 305, 306, 307, 308, 309, 310, 311, 312, 313, 314, 315, 316, 317, 318, 319, 320, 321, 322, 323, 324, 325, 326, 327, 328, 329, 330, 331, 332, 333, 334, 335, 336, 337, 338, 339, 340, 341, 342, 343, 344, 345, 346, 347, 348, 349, 350, 351, 352, 353, 354, 355, 356, 357, 358, 359, 360, 361, 362, 363, 364, 365, 366, 367, 368, 369, 370, 371, 372, 373, 374, 375, 376, 377, 378, 379, 380, 381, 382, 383, 384, 385, 386, 387, 388, 389, 390, 391, 392, 393, 394, 395, 396, 397, 398, 399, 400, 401, 402, 403, 404, 405, 406, 407, 408, 409, 410, 411, 412, 413, 414, 415, 416, 417, 418, 419, 420, 421, 422, 423, 424, 425, 426, 427, 428, 429, 430, 431, 432, 433, 434, 435, 436, 437, 438, 439, 440, 441, 442, 443, 444, 445, 446, 447, 448, 449, 450, 451, 452, 453, 454, 455, 456, 457, 458, 459, 460, 461, 462, 463, 464, 465, 466, 467, 468, 469, 470, 471, 472, 473, 474, 475, 476, 477, 478, 479, 480, 481, 482, 483, 484, 485, 486, 487, 488, 489, 490, 491, 492, 493, 494, 495, 496, 497, 498, 499, 500, 501, 502, 503, 504, 505, 506, 507, 508, 509, 510, 511, 512, 513, 514, 515, 516, 517, 518, 519, 520, 521, 522, 523, 524, 525, 526, 527, 528, 529, 530, 531, 532, 533, 534, 535, 536, 537, 538, 539, 540, 541, 542, 543, 544, 545, 546, 547, 548, 549, 550, 551, 552, 553, 554, 555, 556, 557, 558, 559, 560, 561, 562, 563, 564, 565, 566, 567, 568, 569, 570, 571, 572, 573, 574, 575, 576, 577, 578, 579, 580, 581, 582, 583, 584, 585, 586, 587, 588, 589, 590, 591, 592, 593, 594, 595, 596, 597, 598, 599, 600, 601, 602, 603, 604, 605, 606, 607, 608, 609, 610, 611, 612, 613, 614, 615, 616, 617, 618, 619, 620, 621, 622, 623, 624, 625, 626, 627, 628, 629, 630, 631, 632, 633, 634, 635, 636, 637, 638, 639, 640, 641, 642, 643, 644, 645, 646, 647, 648, 649, 650, 651, 652, 653, 654, 655, 656, 657, 658, 659, 660, 661, 662, 663, 664, 665, 666, 667, 668, 669, 670, 671, 672, 673, 674, 675, 676, 677, 678, 679, 680, 681, 682, 683, 684, 685, 686, 687, 688, 689, 690, 691, 692, 693, 694, 695, 696, 697, 698, 699, 700, 701, 702, 703, 704, 705, 706, 707, 708, 709, 710, 711, 712, 713, 714, 715, 716, 717, 718, 719, 720, 721, 722, 723, 724, 725, 726, 727, 728, 729, 730, 731, 732, 733, 734, 735, 736, 737, 738, 739, 740, 741, 742, 743, 744, 745, 746, 747, 748, 749, 750, 751, 752, 753, 754, 755, 756, 757, 758, 759, 760, 761, 762, 763, 764, 765, 766, 767, 768, 769, 770, 771, 772, 773, 774, 775, 776, 777, 778, 779, 780, 781, 782, 783, 784, 785, 786, 787, 788, 789, 790, 791, 792, 793, 794, 795, 796, 797, 798, 799, 800, 801, 802, 803, 804, 805, 806, 807, 808, 809, 810, 811, 812, 813, 814, 815, 816, 817, 818, 819, 820, 821, 822, 823, 824, 825, 826, 827, 828, 829, 830, 831, 832, 833, 834, 835, 836, 837, 838, 839, 840, 841, 842, 843, 844, 845, 846, 847, 848, 849, 850, 851, 852, 853, 854, 855, 856, 857, 858, 859, 860, 861, 862, 863, 864, 865, 866, 867, 868, 869, 870, 871, 872, 873, 874, 875, 876, 877, 878, 879, 880, 881, 882, 883, 884, 885, 886, 887, 888, 889, 890, 891, 892, 893, 894, 895, 896, 897, 898, 899, 900, 901, 902, 903, 904, 905, 906, 907, 908, 909, 910, 911, 912, 913, 914, 915, 916, 917, 918, 919, 920, 921, 922, 923, 924, 925, 926, 927, 928, 929, 930, 931, 932, 933, 934, 935, 936, 937, 938, 939, 940, 941, 942, 943, 944, 945, 946, 947, 948, 949, 950, 951, 952, 953, 954, 955, 956, 957, 958, 959, 960, 961, 962, 963, 964, 965, 966, 967, 968, 969, 970, 971, 972, 973, 974, 975, 976, 977, 978, 979, 980, 981, 982, 983, 984, 985, 986, 987, 988, 989, 990, 991, 992, 993, 994, 995, 996, 997, 998, 999, 1000]\n"
     ]
    }
   ],
   "source": [
    "# collect\n",
    "print(rdd.collect())"
   ]
  },
  {
   "cell_type": "markdown",
   "metadata": {},
   "source": [
    "## Map functions\n",
    "\n",
    "Now that you've been working a little bit with RDDs, let's make this a little more interesting. Imagine you're running a hot new e-commerce startup called BuyStuff, and you're trying to track of how much it charges customers from each item sold. In the next cell, we're going to create simulated data by multiplying the values 1-1000 be a random number from 0-1."
   ]
  },
  {
   "cell_type": "code",
   "execution_count": 15,
   "metadata": {},
   "outputs": [
    {
     "data": {
      "text/plain": [
       "array([2.48963710e-03, 1.15419715e+00, 5.06724962e-01, 2.49277357e+00,\n",
       "       2.31289875e+00, 4.16906977e+00, 4.99360020e+00, 4.70964440e-01,\n",
       "       6.71956535e+00, 7.55398768e+00, 1.06441706e+01, 4.58027218e+00,\n",
       "       1.05027320e+01, 6.12938379e+00, 1.90570086e+00, 8.31666448e+00,\n",
       "       3.67399103e+00, 9.00717726e+00, 4.98540195e+00, 1.43503707e+01,\n",
       "       1.38464255e+01, 2.11924636e-01, 5.71761757e+00, 2.00740187e+01,\n",
       "       2.45749579e+01, 1.69547140e+01, 2.37325600e+01, 4.37597151e+00,\n",
       "       1.21329048e+01, 4.52048547e+00, 8.47704919e+00, 9.74512868e-01,\n",
       "       2.06059080e+01, 4.82023263e+00, 1.81371422e+01, 1.33080603e+01,\n",
       "       1.17057387e+01, 1.64693712e+01, 2.01142603e+00, 1.82644806e+01,\n",
       "       1.92073265e+01, 3.72702213e+01, 6.93401706e+00, 2.86031071e+01,\n",
       "       1.73270838e+01, 1.49824601e+01, 2.14116843e+01, 3.17964878e+00,\n",
       "       3.46360834e+01, 4.22792143e+01, 2.62210227e+01, 2.68142242e+01,\n",
       "       4.39928899e+01, 2.89767886e+01, 9.91962631e+00, 1.65545693e+00,\n",
       "       1.30183837e+01, 9.27468141e+00, 4.49796009e+01, 6.21254690e+00,\n",
       "       4.79052526e+01, 5.16474166e+01, 3.55209838e+01, 2.52207529e+01,\n",
       "       4.14439030e+01, 3.02833971e+01, 6.67854834e+01, 9.61158480e+00,\n",
       "       2.13637306e+01, 5.35835041e+01, 6.39723930e+01, 6.56405258e+01,\n",
       "       7.28697817e+01, 1.60198143e+00, 7.15227831e+01, 1.73815027e+01,\n",
       "       4.07306682e+01, 7.58043957e+01, 1.00641246e+01, 7.98348765e+01,\n",
       "       8.03323924e+01, 2.80115023e+01, 5.50924603e+01, 8.23054479e+01,\n",
       "       5.74162065e+01, 7.23867315e+01, 4.16845945e+01, 7.17594597e+01,\n",
       "       8.60674754e+01, 1.82839960e+01, 3.09425100e+01, 8.77691095e+01,\n",
       "       4.16670500e+01, 6.26779904e+01, 8.78853492e+00, 6.89189124e+01,\n",
       "       4.06136004e+01, 8.26112013e+01, 9.85816519e+01, 9.25639922e+01,\n",
       "       9.54277189e+00, 4.74327828e+01, 3.26863669e+01, 2.60264755e+01,\n",
       "       2.99133042e+01, 6.23003665e+01, 2.08618771e+01, 5.93952651e+01,\n",
       "       9.18291935e+01, 4.54024322e+01, 1.12422833e+01, 3.25484252e+01,\n",
       "       6.69934532e+01, 3.02073309e+01, 5.32658759e+01, 4.52359849e+01,\n",
       "       8.25543262e+01, 3.37192309e+01, 2.88072415e+01, 4.84298816e+01,\n",
       "       8.56528119e+01, 2.95157761e+01, 3.90956554e+01, 5.28232574e+00,\n",
       "       4.36261406e+01, 1.71472146e+01, 4.94208120e+01, 6.59458049e+01,\n",
       "       8.80456305e+01, 1.00722624e+02, 5.47105405e+01, 9.65523845e+01,\n",
       "       8.53214090e+01, 9.13250334e+01, 9.35674783e+01, 2.06970972e+01,\n",
       "       6.50665521e+01, 6.99887404e+01, 4.14844932e+01, 7.14661346e+01,\n",
       "       3.85694446e+01, 4.45841676e+01, 1.09673730e+02, 4.93441604e+01,\n",
       "       1.31793742e+02, 5.40312579e+01, 1.15728783e+02, 3.37869285e+00,\n",
       "       1.18054339e+02, 7.72175596e+01, 1.03138820e+02, 2.03476503e+01,\n",
       "       3.56177016e+01, 1.50126162e+02, 1.18678539e+02, 4.04694319e+00,\n",
       "       4.24055370e+00, 9.04369723e+01, 6.29635045e+01, 1.52150893e+02,\n",
       "       8.50122959e+01, 6.29378945e+01, 3.54305032e+01, 1.07676238e+02,\n",
       "       3.05524986e+00, 3.24352747e+01, 1.66212073e+02, 3.18957064e+01,\n",
       "       8.53453894e+01, 7.28344309e+01, 3.24905522e+01, 1.16908086e+02,\n",
       "       6.76364380e+01, 1.12933800e+01, 3.02503874e+01, 1.47734908e+02,\n",
       "       1.13146051e+02, 1.33111935e+02, 4.88726784e+01, 3.06251619e+00,\n",
       "       1.33973025e+02, 1.43635868e+02, 1.41683509e+02, 1.16980801e+02,\n",
       "       1.51030207e+02, 4.82269655e+01, 1.73193460e+02, 5.55272574e+01,\n",
       "       6.72575490e+01, 1.52898356e+02, 6.87765656e+01, 7.12350355e+01,\n",
       "       9.80090519e+01, 3.07778693e+01, 1.51653088e+02, 1.85423545e+02,\n",
       "       8.41580495e+01, 1.53402497e+02, 1.57021606e+02, 9.23971152e+01,\n",
       "       1.71766015e+02, 3.42243553e+01, 1.28300848e+02, 1.11962461e+01,\n",
       "       6.18367879e+01, 1.24250498e+02, 7.65626866e+01, 8.14844950e+01,\n",
       "       1.48691666e+02, 7.64258920e+01, 1.77256050e+02, 9.78025430e+01,\n",
       "       1.76893708e+02, 1.75850712e+01, 1.99138456e+02, 1.99173087e+02,\n",
       "       1.41693381e+02, 6.65817869e+01, 5.15295770e+01, 1.09140476e+01,\n",
       "       1.04489498e+02, 2.04976165e+02, 3.32925312e+01, 1.85973981e+02,\n",
       "       1.59018577e+02, 1.92293394e+02, 3.13959308e+01, 2.01355118e+02,\n",
       "       1.66186001e+02, 1.92385818e+02, 5.19153692e+01, 1.41579414e+02,\n",
       "       2.06043751e+02, 6.41227595e+00, 2.01577476e+02, 2.31357646e+02,\n",
       "       1.17030728e+02, 3.73391738e+01, 1.99285522e+02, 8.91260107e+00,\n",
       "       2.26358033e+02, 4.29500947e+01, 1.41668169e+01, 2.15935098e+02,\n",
       "       4.00712635e+01, 3.78958236e+01, 8.04799602e+01, 3.07620862e+01,\n",
       "       1.96752060e+02, 2.41705790e+02, 1.16538098e+02, 1.33064429e+02,\n",
       "       1.46125841e+02, 1.32723107e+01, 2.28832240e+02, 2.34592490e+02,\n",
       "       1.07390234e+02, 5.28967960e+01, 1.99306711e+02, 3.96688354e+01,\n",
       "       1.01629713e+02, 1.47264573e+02, 1.27841932e+02, 1.51997686e+01,\n",
       "       1.94591499e+02, 1.87153752e+02, 1.02476683e+01, 3.02993095e+01,\n",
       "       4.04730648e+01, 1.78573551e+02, 1.77022314e+02, 8.43442811e+01,\n",
       "       5.88304204e+01, 1.42250505e+02, 1.16065023e+02, 1.46116168e+02,\n",
       "       2.60092183e+02, 7.90504671e+01, 2.28181157e+00, 1.14212636e+02,\n",
       "       1.62792523e+02, 1.65066851e+02, 1.00173091e+02, 9.06318524e+01,\n",
       "       1.69972033e+02, 1.11683493e+02, 2.69469304e+02, 1.18540177e+02,\n",
       "       2.06295218e+02, 3.80825405e+01, 1.60438137e+02, 6.94541543e+01,\n",
       "       2.72799548e+02, 7.77998088e+01, 8.13737767e+01, 2.83504348e+02,\n",
       "       2.04511509e+02, 1.85498527e+02, 2.47699601e+02, 1.63325113e+02,\n",
       "       2.59863848e+02, 6.77799798e+01, 2.23544442e+02, 1.44621023e+00,\n",
       "       7.67094504e+01, 2.83193260e+02, 9.61318376e+01, 1.62940498e+02,\n",
       "       1.37477911e+02, 1.56798555e+02, 2.45081187e+02, 4.07035824e+01,\n",
       "       1.62990258e+02, 1.03558049e+01, 8.62093359e+00, 2.68105340e+02,\n",
       "       6.02407895e+01, 1.55201623e+01, 2.93939781e+02, 1.49272446e+02,\n",
       "       1.15266777e+02, 1.62771577e+02, 2.66843753e+02, 2.02765884e+02,\n",
       "       1.43901953e+02, 5.90198397e+01, 1.10113247e+02, 2.08478886e+02,\n",
       "       2.33473322e+02, 2.85930810e+02, 1.29485131e+02, 2.70613322e+02,\n",
       "       3.10566878e+02, 3.28922340e+02, 3.14409680e+02, 2.24167305e+02,\n",
       "       2.51913102e+02, 3.31584490e+00, 9.57870757e+01, 1.99429455e+02,\n",
       "       3.08608460e+02, 2.10942934e+02, 2.19725848e+02, 1.86350478e+02,\n",
       "       9.75685704e+01, 1.49211245e+02, 1.41292943e+02, 9.04840320e+01,\n",
       "       1.38460991e+02, 1.27066144e+02, 2.09073270e+02, 6.88110322e+01,\n",
       "       2.85592207e+02, 1.18176242e+02, 2.12679866e+02, 2.88941434e+02,\n",
       "       2.21588830e+02, 1.88330549e+02, 1.74345872e+02, 1.77562362e+02,\n",
       "       1.93590908e+02, 3.19038116e+02, 1.42306452e+02, 1.42143191e+02,\n",
       "       3.29655371e+02, 2.31639061e+02, 2.58848655e+02, 4.54011463e+01,\n",
       "       2.66577790e+02, 3.67587237e+02, 3.42865726e+02, 3.63430740e+02,\n",
       "       1.39369202e+02, 5.68167706e+01, 1.37377160e+02, 7.16764996e+01,\n",
       "       1.15734889e+02, 3.03586282e+01, 1.82036612e+02, 2.75250317e+02,\n",
       "       1.93437317e+02, 4.57905049e+01, 2.83437837e+02, 4.38688639e+01,\n",
       "       1.90764143e+02, 3.10855952e+02, 9.85288392e+01, 2.53593232e+02,\n",
       "       6.26249959e+01, 3.13495159e+02, 3.73565051e+02, 3.59453437e+02,\n",
       "       3.61630559e+02, 2.21955748e+02, 3.75429646e+02, 8.77158476e+01,\n",
       "       2.41701052e+02, 2.88227214e+02, 3.12170143e+02, 3.80457492e+02,\n",
       "       3.22744548e+02, 7.47332294e+01, 1.12670697e+01, 3.89069676e+02,\n",
       "       3.46726860e+02, 2.58534248e+02, 3.01239658e+02, 2.08378402e+02,\n",
       "       3.19050709e+02, 2.36677086e+02, 2.55670613e+02, 1.93464683e+02,\n",
       "       4.04643763e+01, 1.33136401e+01, 2.36625551e+01, 3.52896787e+02,\n",
       "       9.54331776e+01, 2.59144132e+02, 9.96787159e+01, 2.28869894e+02,\n",
       "       1.05404093e+02, 3.64528636e+02, 3.18823097e+02, 3.81764137e+02,\n",
       "       1.67042299e+02, 9.98240993e+00, 7.51390856e+00, 5.91660272e+01,\n",
       "       4.25674258e+01, 1.10322039e+02, 1.38398792e+02, 2.16822621e+02,\n",
       "       1.87037602e+02, 1.87950965e+02, 2.03306357e+02, 2.95738854e+02,\n",
       "       3.23947576e+02, 3.41900347e+02, 2.12773348e+02, 2.60274937e+02,\n",
       "       2.71591889e+02, 2.32150636e+02, 2.25515602e+02, 4.67872939e+01,\n",
       "       8.76183139e+01, 1.92194573e+02, 3.36397133e+02, 3.48274539e+02,\n",
       "       1.31992621e+02, 4.40590207e+02, 1.24827002e+02, 1.85278064e+02,\n",
       "       3.96288324e+02, 6.81419765e+01, 7.71145706e+01, 5.94400931e+01,\n",
       "       3.22835370e+02, 3.72588772e+02, 3.30900635e+02, 2.01759982e+02,\n",
       "       2.60244758e+02, 3.94872055e+01, 2.61553903e+02, 4.17659352e+02,\n",
       "       1.22841348e+02, 2.92596253e+02, 3.91575325e+02, 3.63269515e+02,\n",
       "       3.52604478e+02, 2.53754519e+02, 1.40824024e+02, 1.47140237e+02,\n",
       "       2.00253766e+02, 2.67690366e+02, 4.31060819e+02, 3.71647110e+02,\n",
       "       2.63797224e+02, 9.75657367e+00, 1.16816332e+02, 6.04001164e+01,\n",
       "       3.73313932e+02, 3.39215300e+00, 4.49638636e+02, 1.36754512e+02,\n",
       "       2.52237892e+02, 4.74760640e+02, 1.02725251e+01, 1.99567493e+02,\n",
       "       3.48963164e+02, 2.69193093e+02, 6.94608090e+01, 4.85286992e+02,\n",
       "       5.77058152e+01, 3.11048540e+02, 2.98849692e+02, 2.89550402e+02,\n",
       "       3.58198276e+02, 1.85275127e+02, 4.29591950e+02, 2.70292893e+01,\n",
       "       4.01476037e+02, 4.34604735e+02, 2.35608746e+02, 2.58730804e+02,\n",
       "       4.21249838e+02, 2.45447451e+02, 1.34093924e+02, 2.51760937e+02,\n",
       "       1.02145999e+02, 3.17823913e+02, 3.74055538e+02, 4.38825630e+02,\n",
       "       8.73899413e+01, 8.61118998e+00, 2.26206808e+02, 1.98465961e+02,\n",
       "       1.93827445e+02, 4.86939482e+02, 4.86382509e+02, 3.12360502e+02,\n",
       "       2.20388795e+02, 3.00794765e+02, 2.76022314e+02, 3.98876091e+02,\n",
       "       1.44313957e+02, 5.03844923e+02, 1.42180951e+02, 4.45103232e+02,\n",
       "       2.98881713e+02, 3.31470833e+02, 1.93617968e+02, 4.84265873e+02,\n",
       "       3.86506912e+02, 2.43516142e+02, 3.61961073e+02, 4.02145117e+02,\n",
       "       4.76232965e+01, 4.39366978e+02, 1.64276548e+02, 3.88776956e+02,\n",
       "       1.83435590e+02, 1.63881743e+01, 5.40854869e+01, 2.10997024e+01,\n",
       "       1.55388112e+02, 2.25047866e+02, 5.24091897e+02, 3.65355217e+02,\n",
       "       1.45574318e+02, 5.35990064e+02, 2.35032488e+02, 4.13755818e+01,\n",
       "       5.13390141e-01, 5.45370234e+02, 3.73034040e+02, 1.79427573e+02,\n",
       "       2.19260558e+02, 1.95452865e+02, 3.68752724e+00, 3.63499182e+02,\n",
       "       5.45140622e+02, 1.24093354e+02, 6.00829853e+01, 3.32644199e+02,\n",
       "       4.53901092e+02, 4.44438303e+02, 1.25984815e+02, 3.30920987e+02,\n",
       "       4.46043367e+02, 5.60913157e+02, 1.97361948e+02, 1.14566607e+02,\n",
       "       5.31120102e+02, 4.36813077e+02, 1.86042428e+02, 2.74319948e+02,\n",
       "       2.85342463e+02, 3.67941290e+02, 3.85865367e+02, 5.31117249e+01,\n",
       "       5.32553820e+02, 3.09958698e+02, 5.47924635e+02, 9.39751387e+01,\n",
       "       1.16563599e+01, 1.67666025e+02, 1.59900991e+02, 3.26248684e+02,\n",
       "       7.48247516e+01, 3.86374608e+02, 5.14011647e+02, 4.06768983e+02,\n",
       "       3.44110776e+02, 1.36111479e+02, 4.55200294e+02, 2.64914450e+02,\n",
       "       1.69802174e+02, 3.65574599e+02, 1.19099585e+02, 2.98423192e+02,\n",
       "       2.35583791e+01, 5.79633473e+02, 5.37005698e+02, 1.84296076e+02,\n",
       "       1.53484645e+02, 4.49567567e+01, 9.83641212e+01, 4.25919552e+02,\n",
       "       3.38482881e+02, 5.91852678e+01, 9.45840121e+01, 1.28540085e+02,\n",
       "       1.80792009e+02, 5.65456905e+02, 2.62780759e+01, 2.08549885e+02,\n",
       "       7.13120634e+01, 1.11031135e+02, 1.82312584e+02, 3.96320031e+01,\n",
       "       2.14825799e+02, 5.93769858e+02, 3.48155630e+02, 5.33741839e+02,\n",
       "       1.73022196e+02, 3.58985754e+02, 2.15809874e+01, 1.81395695e+02,\n",
       "       3.93413253e+02, 6.59682824e+01, 2.62125399e+02, 3.69116617e+02,\n",
       "       4.34198545e+01, 4.36969541e+02, 7.97688557e+01, 1.43206105e+02,\n",
       "       2.95438859e+02, 3.79138046e+02, 6.22736401e+01, 4.77907300e+02,\n",
       "       5.60574878e+01, 5.35164781e+02, 1.12692993e+02, 4.57526701e+02,\n",
       "       5.64448821e+02, 7.46112915e+01, 5.62128078e+02, 2.26131997e+02,\n",
       "       4.27063083e+02, 4.28443557e+02, 1.84595154e+02, 5.93709481e+01,\n",
       "       5.44375188e+02, 7.38648030e+00, 2.29923203e+02, 6.51229823e+02,\n",
       "       3.61662578e+02, 3.35641230e+02, 4.58524092e+02, 5.19333846e+02,\n",
       "       6.04353388e+02, 4.38288562e+02, 6.01804699e+02, 5.78264342e+02,\n",
       "       1.59320583e+02, 1.52014796e+02, 7.26881769e+01, 1.40402975e+02,\n",
       "       6.10298403e+02, 3.84783134e+02, 4.96590838e+02, 4.14247320e+02,\n",
       "       6.14718131e+02, 1.67769577e+02, 6.13086310e+01, 1.70889649e+02,\n",
       "       2.42451382e+02, 7.43427962e+01, 4.37885629e+02, 2.70802036e+02,\n",
       "       5.14680356e+02, 6.61760370e+02, 1.98178462e+02, 8.83585616e+01,\n",
       "       3.65496384e+02, 4.21849385e+02, 4.71875219e+01, 3.58087673e+02,\n",
       "       4.16564937e+02, 5.49802247e+02, 1.88865082e+02, 2.39872632e+02,\n",
       "       6.25242758e+02, 6.46644178e+02, 3.39747605e+00, 7.32523455e+01,\n",
       "       5.31727788e+02, 2.38007513e+01, 1.67809380e+02, 4.18125975e+02,\n",
       "       3.89010549e+02, 2.53086449e+02, 3.79799823e+02, 1.74055206e+02,\n",
       "       3.11803970e+02, 4.81522519e+02, 2.72219765e+01, 4.90770442e+02,\n",
       "       8.15946773e+01, 3.03108813e+02, 4.39474247e+02, 2.81173178e+02,\n",
       "       4.18670066e+01, 3.72999034e+01, 5.14368034e+02, 4.66820591e+02,\n",
       "       4.79187264e+02, 5.93401193e+02, 2.18361006e+02, 5.93390949e+02,\n",
       "       6.48057821e+02, 6.41380195e+02, 2.89835961e+02, 2.71724030e+02,\n",
       "       6.78283666e+02, 4.97092921e+02, 4.56963626e+02, 4.50772398e+02,\n",
       "       2.84992271e+02, 9.97064024e+01, 1.43899848e+02, 2.42723457e+02,\n",
       "       3.63929952e+02, 2.55545954e+02, 6.16233816e+02, 5.84449348e+02,\n",
       "       4.66741027e+02, 8.78853528e+01, 4.79649932e+02, 5.28138669e+02,\n",
       "       5.37880787e+02, 4.34202586e+02, 7.07498177e+02, 3.21270977e+02,\n",
       "       6.74735784e+02, 2.63111192e+02, 1.27755827e+02, 6.09096276e+02,\n",
       "       4.79061670e+01, 3.46673110e+01, 1.87406853e+02, 9.68347199e+00,\n",
       "       4.14773988e+02, 6.13871132e+02, 1.37962785e+02, 5.74603435e+02,\n",
       "       2.41160146e+02, 6.84284278e+02, 2.67144679e+02, 6.16120227e+01,\n",
       "       7.27556220e+02, 2.46490820e+02, 5.77653578e+02, 6.39628536e+02,\n",
       "       4.23725409e+02, 3.27454573e+02, 1.65398358e+02, 4.34968351e+02,\n",
       "       7.56267807e+01, 6.59341633e+02, 1.36394846e+02, 5.45110421e+02,\n",
       "       4.38909425e+02, 6.56842152e+02, 5.47371028e+02, 3.81614297e+02,\n",
       "       2.77409776e+02, 1.57460457e+02, 2.14084355e+02, 4.27471948e+02,\n",
       "       7.20884840e+02, 1.87204677e+02, 6.94107762e+02, 2.30289123e+02,\n",
       "       2.63949497e+01, 2.99508673e+02, 5.22422963e+02, 6.54464278e+02,\n",
       "       5.71300100e+02, 2.88327380e+02, 7.10312328e+02, 2.89320437e+02,\n",
       "       5.41543632e+02, 5.45298330e+02, 7.31912379e+00, 2.71776348e+02,\n",
       "       5.39622471e+01, 1.26641528e+02, 2.41479899e+02, 4.01734648e+02,\n",
       "       7.48860711e+02, 3.66754254e+02, 1.57204373e+02, 5.28629578e+01,\n",
       "       1.39168638e+02, 5.96146694e+02, 4.74976221e+02, 5.57289068e+02,\n",
       "       4.14139098e+02, 7.58804378e+02, 3.11029252e+02, 6.11596649e+02,\n",
       "       5.26174185e+02, 3.23457662e+02, 6.65640944e+02, 6.66991151e+02,\n",
       "       1.57077927e+02, 5.20641254e+02, 7.54507490e+02, 4.81560398e+02,\n",
       "       2.51555440e+01, 2.66906676e+01, 3.43251520e+02, 4.62998245e+02,\n",
       "       7.33968164e+02, 7.99991968e+02, 5.21020715e+02, 2.78410904e+02,\n",
       "       7.04515662e+02, 5.91514802e+02, 3.13907805e+02, 4.13864502e+02,\n",
       "       6.12700569e+02, 5.10641532e+02, 5.67449192e+01, 5.93895007e+02,\n",
       "       3.42070575e+02, 8.79738701e+01, 6.53365646e+02, 7.90315873e+01,\n",
       "       6.72475353e+01, 7.21544510e+02, 6.01009492e+01, 2.08590889e+02,\n",
       "       5.32122018e+02, 4.84137896e+02, 1.58030980e+02, 3.92120423e+02,\n",
       "       3.64740750e+02, 3.30803925e+02, 5.22809624e+02, 1.34347617e+02,\n",
       "       2.52719703e+02, 1.60152534e+02, 5.05996362e+02, 2.58941363e+02,\n",
       "       4.02313251e+01, 3.17484651e+02, 1.43560930e+02, 4.83481572e+02,\n",
       "       1.48725301e+02, 4.93495494e+02, 6.69810803e+02, 1.56913282e+02,\n",
       "       8.33817357e+02, 3.86920907e+02, 3.80209030e+02, 1.16945892e+02,\n",
       "       8.67001772e+02, 1.49912729e+01, 8.47730647e+02, 6.15861675e+02,\n",
       "       8.16382317e+02, 8.03900100e+02, 4.77894250e+02, 5.08884260e+01,\n",
       "       8.65862362e+02, 2.30469136e+02, 6.91164045e+02, 8.64182363e+01,\n",
       "       7.11180545e+02, 8.05229225e+02, 6.25397220e+01, 6.23393667e+02,\n",
       "       1.74024715e+02, 8.35520865e+02, 5.36977291e+02, 1.26065601e+01,\n",
       "       6.02135368e+02, 3.44617955e+02, 1.46574572e+02, 1.29311301e+02,\n",
       "       6.87741972e+02, 8.10867416e+02, 8.89566879e+02, 7.29421738e+02,\n",
       "       7.49448582e+02, 6.70936789e+02, 4.83838666e+02, 1.35672344e+02,\n",
       "       7.55091171e+02, 7.96891657e+02, 2.44922212e+02, 7.95832966e+02,\n",
       "       7.78538476e+02, 6.92674512e+02, 1.06342732e+02, 4.90953917e+02,\n",
       "       1.09611180e+02, 1.46824317e+01, 8.29108402e+01, 4.04675541e+02,\n",
       "       3.85104711e+02, 2.14346832e+02, 4.37288614e+01, 5.57553275e+02,\n",
       "       4.57516487e+02, 1.28110251e+02, 3.18180909e+02, 8.42230619e+02,\n",
       "       4.33092563e+02, 4.60482913e+02, 7.48934369e+02, 1.39549436e+02,\n",
       "       3.56283356e+02, 5.40559262e+02, 3.03574128e+02, 6.71796917e+01,\n",
       "       9.24776616e+02, 4.59285763e+02, 7.39230975e+01, 5.84020871e+02,\n",
       "       7.92592686e+02, 2.77200896e+02, 6.55706526e+02, 5.21897345e+02,\n",
       "       4.06280264e+02, 6.44394590e+02, 8.10272840e+02, 3.21879675e+02,\n",
       "       2.93112655e+02, 5.99999507e+02, 6.43250971e+01, 7.93280622e+02,\n",
       "       6.85819701e+02, 4.25550706e+02, 8.94043330e+02, 6.03340755e+02,\n",
       "       5.39609781e+02, 3.09617915e+02, 2.29726481e+02, 1.65747794e+02,\n",
       "       3.16594591e+01, 9.17940224e+02, 3.07698653e+02, 5.70838147e+02,\n",
       "       8.90046404e+02, 7.43133725e+02, 7.34006887e+02, 7.39603864e+02,\n",
       "       1.56455517e+02, 8.61573240e+02, 2.86436401e+02, 2.85074640e+02,\n",
       "       7.64059256e+02, 5.59306684e+02, 4.20779655e+02, 4.65941677e+02,\n",
       "       2.13564657e+02, 4.55382112e+02, 5.32150560e+02, 3.84407200e+01,\n",
       "       7.57633615e+02, 5.62444223e+02, 4.99969266e+02, 2.66677195e+01,\n",
       "       3.08303891e+02, 9.69543881e+02, 5.68354145e+01, 6.02159507e+02,\n",
       "       6.22323845e+02, 7.52866185e+02, 7.89173065e+01, 9.55594024e+02,\n",
       "       2.63232918e+02, 8.16902293e+02, 1.51322830e+02, 1.89753646e+02,\n",
       "       8.44193321e+02, 6.24252140e+02, 6.26533122e+02, 1.72267534e+02,\n",
       "       9.48472114e+02, 2.39197590e+02, 6.25444529e+02, 1.16897520e+02,\n",
       "       1.01360072e+02, 5.76726297e+02, 7.21446823e+02, 7.74900796e+02])"
      ]
     },
     "execution_count": 15,
     "metadata": {},
     "output_type": "execute_result"
    }
   ],
   "source": [
    "import random\n",
    "import numpy as np\n",
    "\n",
    "nums = np.array(range(1,1001))\n",
    "sales_figures = nums * np.random.rand(1000)\n",
    "sales_figures"
   ]
  },
  {
   "cell_type": "markdown",
   "metadata": {},
   "source": [
    "We now have sales prices for 1000 items currently for sale at BuyStuff. Now create an RDD called `price_items` using the newly created data with 10 slices. After you create it, use one of the basic actions to see what's in the RDD."
   ]
  },
  {
   "cell_type": "code",
   "execution_count": 18,
   "metadata": {},
   "outputs": [
    {
     "data": {
      "text/plain": [
       "[0.002489637103735398,\n",
       " 1.1541971530071067,\n",
       " 0.506724961944808,\n",
       " 2.4927735679460765,\n",
       " 2.312898746409636]"
      ]
     },
     "execution_count": 18,
     "metadata": {},
     "output_type": "execute_result"
    }
   ],
   "source": [
    "price_items = sc.parallelize(sales_figures, 10)\n",
    "price_items.take(5)"
   ]
  },
  {
   "cell_type": "markdown",
   "metadata": {},
   "source": [
    "Now let's perform some operations on this simple dataset. To begin with, create a function that will take into account how much money BuyStuff will receive after sales tax has been applied (assume a sales tax of 8%). To make this happen, create a function called `sales_tax` that returns the amount of money our company will receive after the sale tax has been applied. The function will have this parameter:\n",
    "\n",
    "* `item`: (float) number to be multiplied by the sales tax.\n",
    "\n",
    "\n",
    "Apply that function to the rdd by using the map method and assign it to a variable `renenue_minus_tax`"
   ]
  },
  {
   "cell_type": "code",
   "execution_count": 19,
   "metadata": {},
   "outputs": [],
   "source": [
    "def sales_tax(num):\n",
    "    return num * 0.92\n",
    "\n",
    "revenue_minus_tax = price_items.map(sales_tax)"
   ]
  },
  {
   "cell_type": "markdown",
   "metadata": {},
   "source": [
    "Remember, Spark has __lazy evaluation__, which means that the `sales_tax` function is a transformer that is not executed until you call an action. Use one of the collection methods to execute the transformer now a part of the RDD and observe the contents of the `revenue_minus_tax` rdd."
   ]
  },
  {
   "cell_type": "code",
   "execution_count": 20,
   "metadata": {
    "scrolled": true
   },
   "outputs": [
    {
     "data": {
      "text/plain": [
       "[0.0022904661354365666,\n",
       " 1.0618613807665382,\n",
       " 0.46618696498922335,\n",
       " 2.2933516825103903,\n",
       " 2.127866846696865]"
      ]
     },
     "execution_count": 20,
     "metadata": {},
     "output_type": "execute_result"
    }
   ],
   "source": [
    "# perform action to retrieve rdd values\n",
    "revenue_minus_tax.take(5)"
   ]
  },
  {
   "cell_type": "markdown",
   "metadata": {},
   "source": [
    "### Lambda Functions\n",
    "\n",
    "Note that you can also use lambda functions if you want to quickly perform simple operations on data without creating a function. Let's assume that BuyStuff has also decided to offer a 10% discount on all of their items on the pre-tax amounts of each item. Use a lambda function within a map method to apply the additional 10% loss in revenue for BuyStuff and assign the transformed RDD to a new RDD called `discounted`."
   ]
  },
  {
   "cell_type": "code",
   "execution_count": 21,
   "metadata": {},
   "outputs": [],
   "source": [
    "discounted = revenue_minus_tax.map(lambda x : x*0.9)"
   ]
  },
  {
   "cell_type": "code",
   "execution_count": 22,
   "metadata": {
    "scrolled": true
   },
   "outputs": [
    {
     "data": {
      "text/plain": [
       "[0.00206141952189291,\n",
       " 0.9556752426898845,\n",
       " 0.41956826849030104,\n",
       " 2.064016514259351,\n",
       " 1.9150801620271787,\n",
       " 3.4519897686887893,\n",
       " 4.134700969238142,\n",
       " 0.38995855608956786,\n",
       " 5.563800108357257,\n",
       " 6.254701801806707]"
      ]
     },
     "execution_count": 22,
     "metadata": {},
     "output_type": "execute_result"
    }
   ],
   "source": [
    "discounted.take(10)"
   ]
  },
  {
   "cell_type": "markdown",
   "metadata": {},
   "source": [
    "## Chaining Methods\n",
    "\n",
    "You are also able to chain methods together with Spark. In one line, remove the tax and discount from the revenue of BuyStuff use a collection method to see the 15 costliest items."
   ]
  },
  {
   "cell_type": "code",
   "execution_count": 23,
   "metadata": {
    "scrolled": true
   },
   "outputs": [
    {
     "data": {
      "text/plain": [
       "[802.7823334730276,\n",
       " 791.2318520666074,\n",
       " 785.3349106821706,\n",
       " 765.7150378921526,\n",
       " 760.0545052206692,\n",
       " 740.2678769151388,\n",
       " 736.9584226903178,\n",
       " 736.5613761008092,\n",
       " 717.8774670742409,\n",
       " 716.9340358997529,\n",
       " 713.3826428007316,\n",
       " 701.9209761128024,\n",
       " 698.9920700915654,\n",
       " 697.3669528940856,\n",
       " 691.8112760592392]"
      ]
     },
     "execution_count": 23,
     "metadata": {},
     "output_type": "execute_result"
    }
   ],
   "source": [
    "price_items.map(sales_tax).map(lambda x : x*0.9).top(15)"
   ]
  },
  {
   "cell_type": "markdown",
   "metadata": {},
   "source": [
    "## RDD Lineage\n",
    "\n",
    "\n",
    "We are able to see the full lineage of all the operations that have been performed on an RDD by using the `RDD.toDebugString()` method. As your transformations become more complex, you are encouraged to call this method to get a better understanding of the dependencies between RDDs. Try calling it on the `discounted` RDD to see what RDDs it is dependent on."
   ]
  },
  {
   "cell_type": "code",
   "execution_count": 24,
   "metadata": {},
   "outputs": [
    {
     "data": {
      "text/plain": [
       "b'(10) PythonRDD[13] at RDD at PythonRDD.scala:53 []\\n |   ParallelCollectionRDD[8] at parallelize at PythonRDD.scala:195 []'"
      ]
     },
     "execution_count": 24,
     "metadata": {},
     "output_type": "execute_result"
    }
   ],
   "source": [
    "discounted.toDebugString()"
   ]
  },
  {
   "cell_type": "markdown",
   "metadata": {},
   "source": [
    "### Map vs. Flatmap\n",
    "\n",
    "Depending on how you want your data to be outputted, you might want to use flatMap rather than a simple map. Let's take a look at how it performs operations versus the standard map. Let's say we wanted to maintain the original amount BuyStuff receives for each item as well as the new amount after the tax and discount are applied. Create a map function that will a tuple with (original price, post-discount price)."
   ]
  },
  {
   "cell_type": "code",
   "execution_count": 25,
   "metadata": {},
   "outputs": [
    {
     "name": "stdout",
     "output_type": "stream",
     "text": [
      "1000\n",
      "[(0.002489637103735398, 0.00206141952189291), (1.1541971530071067, 0.9556752426898845), (0.506724961944808, 0.41956826849030104), (2.4927735679460765, 2.064016514259351), (2.312898746409636, 1.9150801620271787), (4.1690697689478124, 3.4519897686887893), (4.993600204393891, 4.134700969238142), (0.4709644397217003, 0.38995855608956786), (6.719565348257556, 5.563800108357257), (7.5539876833414334, 6.254701801806707)]\n"
     ]
    }
   ],
   "source": [
    "mapped = price_items.map(lambda x: (x, x*0.92 *0.9))\n",
    "print(mapped.count())\n",
    "print(mapped.take(10))"
   ]
  },
  {
   "cell_type": "markdown",
   "metadata": {},
   "source": [
    "Note that we have 1000 tuples created to our specification. Let's take a look at how flatMap differs in its implementation. Use the `flatMap` method with the same function you created above."
   ]
  },
  {
   "cell_type": "code",
   "execution_count": 27,
   "metadata": {},
   "outputs": [
    {
     "name": "stdout",
     "output_type": "stream",
     "text": [
      "2000\n",
      "[0.002489637103735398, 0.00206141952189291, 1.1541971530071067, 0.9556752426898845, 0.506724961944808, 0.41956826849030104, 2.4927735679460765, 2.064016514259351, 2.312898746409636, 1.9150801620271787]\n"
     ]
    }
   ],
   "source": [
    "flat_mapped = price_items.flatMap(lambda x: (x, x*0.92 *0.9))\n",
    "print(flat_mapped.count())\n",
    "print(flat_mapped.take(10))"
   ]
  },
  {
   "cell_type": "markdown",
   "metadata": {},
   "source": [
    "Rather than being represented by tuples, all of the  values are now on the same level. When we are trying to combine different items together, it is sometimes necessary to use flatmap rather than map in order to properly reduce to our specifications. This is not one of those instances, but int he upcoming lab, you just might have to use it."
   ]
  },
  {
   "cell_type": "markdown",
   "metadata": {},
   "source": [
    "## Filter\n",
    "After meeting with some external consultants, BuyStuff has determined that its business will be more profitable if it focuses on higher ticket items. Now, use the filter method to select items that bring in more than $300 after tax and discount have been removed. A filter method is a specialized form of a map function that only returns the items that match a certain criterion. In the cell below:\n",
    "* use a lambda function within a filter function to meet the consultant's suggestion's specifications. set RDD = `selected_items`\n",
    "* calculate the total number of items remaining in BuyStuff's inventory"
   ]
  },
  {
   "cell_type": "code",
   "execution_count": 30,
   "metadata": {},
   "outputs": [
    {
     "data": {
      "text/plain": [
       "271"
      ]
     },
     "execution_count": 30,
     "metadata": {},
     "output_type": "execute_result"
    }
   ],
   "source": [
    "# use the filter function\n",
    "selected_items = price_items.filter(lambda x: x*.92*.9>300)\n",
    "\n",
    "# calculate total remaining in inventory \n",
    "selected_items.count()"
   ]
  },
  {
   "cell_type": "markdown",
   "metadata": {},
   "source": [
    "## Reduce\n",
    "\n",
    "Reduce functions are where you are in some way combing all of the variables that you have mapped out. Here is an example of how a reduce function works when the task is to sum all values:\n",
    "\n",
    "<img src = \"./images/reduce_function.png\" width = \"600\">  \n",
    "\n",
    "\n",
    "As you can see, the operation is performed within each partition first, after which, the results of the computations in each partition are combined to come up with one final answer.  \n",
    "\n",
    "Now it's time to figure out how much money BuyStuff would make from selling one of all of its items after they've reduced their inventory. Use a reduce method with a lambda function to add up all of the values in the RDD. Your lambda function should have two variables. "
   ]
  },
  {
   "cell_type": "code",
   "execution_count": 31,
   "metadata": {},
   "outputs": [
    {
     "data": {
      "text/plain": [
       "151112.53079313552"
      ]
     },
     "execution_count": 31,
     "metadata": {},
     "output_type": "execute_result"
    }
   ],
   "source": [
    "selected_items.reduce(lambda x,y :x + y)"
   ]
  },
  {
   "cell_type": "markdown",
   "metadata": {},
   "source": [
    "The time has come for BuyStuff to open up shop and start selling its goods. It only has one of each item, but it's allowing 50 lucky users to buy as many items as they want while they remain in stock. Within seconds, BuyStuff is sold out. Below, you'll find the sales data in an RDD with tuples of (user, item bought)."
   ]
  },
  {
   "cell_type": "code",
   "execution_count": 44,
   "metadata": {},
   "outputs": [
    {
     "data": {
      "text/plain": [
       "[(9, 367.58723666763973),\n",
       " (29, 363.4307399576611),\n",
       " (46, 373.56505070987066),\n",
       " (19, 375.42964608453406),\n",
       " (7, 380.45749161362994),\n",
       " (37, 389.06967645274204),\n",
       " (21, 364.52863627491206)]"
      ]
     },
     "execution_count": 44,
     "metadata": {},
     "output_type": "execute_result"
    }
   ],
   "source": [
    "import random\n",
    "random.seed(42)\n",
    "# generating simulated users that have bought each item\n",
    "sales_data = selected_items.map(lambda x: (random.randint(1,50),x))\n",
    "\n",
    "sales_data.take(7)"
   ]
  },
  {
   "cell_type": "markdown",
   "metadata": {},
   "source": [
    "It's time to determine some basic statistics about BuyStuff users.\n",
    "\n",
    "Let's start off by creating an RDD that determines how much each user spent in total.\n",
    "To do this we can use a method called __reduceByKey__ to perform reducing operations while grouping by keys. After you have calculated the total, use the __sortBy__ method on the RDD to rank the users from the highest spending to the least spending.\n",
    "\n"
   ]
  },
  {
   "cell_type": "code",
   "execution_count": 48,
   "metadata": {},
   "outputs": [
    {
     "data": {
      "text/plain": [
       "[(40, 2439.5205657148717),\n",
       " (20, 4048.6683534755684),\n",
       " (30, 3256.186581427667),\n",
       " (50, 3110.719497659677),\n",
       " (10, 3247.2853931147924),\n",
       " (41, 4543.098489511859),\n",
       " (1, 2664.337451925615),\n",
       " (31, 2611.669627180679),\n",
       " (11, 1833.3900536593965),\n",
       " (21, 1788.7088517124548)]"
      ]
     },
     "execution_count": 48,
     "metadata": {},
     "output_type": "execute_result"
    }
   ],
   "source": [
    "# calculate how much each user spent\n",
    "total_spent = sales_data.reduceByKey(lambda x,y :x + y)\n",
    "total_spent.take(10)"
   ]
  },
  {
   "cell_type": "code",
   "execution_count": 52,
   "metadata": {},
   "outputs": [
    {
     "data": {
      "text/plain": [
       "[(10, 4528.642959031231),\n",
       " (30, 2291.0122053273108),\n",
       " (50, 3575.0423263041275),\n",
       " (40, 2506.003910920532),\n",
       " (20, 2722.617598459398),\n",
       " (41, 1930.4206024713062),\n",
       " (11, 3157.4331127913565),\n",
       " (1, 2260.534541395965),\n",
       " (21, 1897.5709575139786),\n",
       " (31, 4082.6756190000815)]"
      ]
     },
     "execution_count": 52,
     "metadata": {},
     "output_type": "execute_result"
    }
   ],
   "source": [
    "from operator import add\n",
    "total_spent2 = sales_data.reduceByKey(add)\n",
    "total_spent2.take(10)"
   ]
  },
  {
   "cell_type": "code",
   "execution_count": 42,
   "metadata": {},
   "outputs": [
    {
     "data": {
      "text/plain": [
       "[(44, 5267.5962264791715),\n",
       " (30, 4857.52913906113),\n",
       " (18, 4680.581653755209),\n",
       " (7, 4635.6692718925515),\n",
       " (21, 4541.811282715404),\n",
       " (12, 4513.132689062008),\n",
       " (27, 4420.040443183558),\n",
       " (41, 4231.5390007186925),\n",
       " (26, 4221.303882811167),\n",
       " (23, 4190.477884400389),\n",
       " (5, 3881.7803148240346),\n",
       " (32, 3830.965280414954),\n",
       " (1, 3801.277743755023),\n",
       " (40, 3745.5700433498573),\n",
       " (19, 3512.795657992192),\n",
       " (36, 3408.254845693569),\n",
       " (13, 3388.7966442509933),\n",
       " (25, 3315.2111688433865),\n",
       " (20, 3310.75999529409),\n",
       " (48, 3282.426420862604),\n",
       " (38, 3189.2310284088685),\n",
       " (34, 3186.8487871863526),\n",
       " (9, 3149.8123733363054),\n",
       " (47, 3101.2357174785548),\n",
       " (43, 3006.201208076779),\n",
       " (10, 2990.6712097852187),\n",
       " (22, 2968.5296912926005),\n",
       " (28, 2847.005329953863),\n",
       " (15, 2835.3960610811187),\n",
       " (16, 2809.706157584843),\n",
       " (50, 2777.4624603339257),\n",
       " (4, 2767.236182918562),\n",
       " (2, 2650.853662295768),\n",
       " (8, 2595.8104495529374),\n",
       " (24, 2520.7300632665497),\n",
       " (17, 2289.8157461987944),\n",
       " (49, 2278.5263851596956),\n",
       " (11, 2204.311361205526),\n",
       " (42, 2085.2280013865097),\n",
       " (37, 2084.510149895169),\n",
       " (31, 2019.7311231982494),\n",
       " (6, 1918.460920998893),\n",
       " (46, 1882.610751946321),\n",
       " (3, 1802.888727913064),\n",
       " (35, 1745.1307157374536),\n",
       " (33, 1649.9406293197485),\n",
       " (29, 1435.868972301353),\n",
       " (39, 1420.663555212434),\n",
       " (14, 1102.9601654451276),\n",
       " (45, 757.6336153049392)]"
      ]
     },
     "execution_count": 42,
     "metadata": {},
     "output_type": "execute_result"
    }
   ],
   "source": [
    "# sort the users from highest to lowest spenders\n",
    "total_spent.sortBy(lambda x: x[1],ascending = False).collect()"
   ]
  },
  {
   "cell_type": "code",
   "execution_count": 43,
   "metadata": {},
   "outputs": [
    {
     "data": {
      "text/plain": [
       "[(41, 6601.223194982086),\n",
       " (40, 6472.663877787461),\n",
       " (49, 5993.120283952966),\n",
       " (50, 5491.21166631734),\n",
       " (4, 5357.3059119157315),\n",
       " (21, 4826.828515414356),\n",
       " (16, 4628.976087857942),\n",
       " (8, 4487.91228844599),\n",
       " (38, 4404.399951094594),\n",
       " (48, 4031.5800251413834),\n",
       " (46, 4002.117811344517),\n",
       " (42, 3980.767000154594),\n",
       " (34, 3956.2384058848065),\n",
       " (26, 3865.1569793481235),\n",
       " (43, 3680.973315726877),\n",
       " (39, 3630.273731872536),\n",
       " (1, 3615.726268271739),\n",
       " (31, 3557.707872095605),\n",
       " (44, 3378.3600090347236),\n",
       " (17, 3351.3707027382056),\n",
       " (15, 3340.8561672634146),\n",
       " (13, 3272.873420804085),\n",
       " (10, 3209.3663934658803),\n",
       " (25, 3186.69876516613),\n",
       " (27, 3164.026371500009),\n",
       " (6, 3113.0874784863627),\n",
       " (2, 3099.0416594284115),\n",
       " (20, 2902.366479709592),\n",
       " (28, 2867.271912669668),\n",
       " (24, 2803.3335925136453),\n",
       " (14, 2669.4582632141382),\n",
       " (37, 2575.5317204671014),\n",
       " (3, 2526.543273255047),\n",
       " (32, 2501.102371653629),\n",
       " (11, 2159.666742548484),\n",
       " (7, 2131.898891308432),\n",
       " (19, 1882.2709237528506),\n",
       " (12, 1810.7709533630748),\n",
       " (5, 1810.1576374853325),\n",
       " (35, 1643.0147408098178),\n",
       " (23, 1290.7624098097663),\n",
       " (36, 1289.8718830908983),\n",
       " (18, 1183.558824098025),\n",
       " (9, 1158.9845973301994),\n",
       " (22, 1137.4497772643358),\n",
       " (29, 1062.2771825498594),\n",
       " (30, 946.896006022455),\n",
       " (47, 545.1104210929905),\n",
       " (33, 514.3680336302905)]"
      ]
     },
     "execution_count": 43,
     "metadata": {},
     "output_type": "execute_result"
    }
   ],
   "source": [
    "total_spent2.sortBy(lambda x: x[1],ascending = False).collect()"
   ]
  },
  {
   "cell_type": "markdown",
   "metadata": {},
   "source": [
    "Next, let's determine how many items were bought per user. This can be solved in one line using an RDD method. After you've counted the total number of items bought per person, sort the users from most number of items bought to least number of items. Time to start a customer loyalty program!"
   ]
  },
  {
   "cell_type": "code",
   "execution_count": 60,
   "metadata": {},
   "outputs": [
    {
     "data": {
      "text/plain": [
       "[(41, 10),\n",
       " (37, 10),\n",
       " (49, 9),\n",
       " (10, 9),\n",
       " (20, 9),\n",
       " (47, 8),\n",
       " (45, 8),\n",
       " (27, 8),\n",
       " (25, 8),\n",
       " (38, 8),\n",
       " (12, 8),\n",
       " (5, 8),\n",
       " (3, 7),\n",
       " (31, 7),\n",
       " (13, 7),\n",
       " (2, 7),\n",
       " (6, 7),\n",
       " (26, 7),\n",
       " (19, 6),\n",
       " (18, 6),\n",
       " (15, 6),\n",
       " (29, 6),\n",
       " (22, 6),\n",
       " (7, 5),\n",
       " (24, 5),\n",
       " (14, 5),\n",
       " (9, 5),\n",
       " (30, 5),\n",
       " (35, 5),\n",
       " (21, 4),\n",
       " (46, 4),\n",
       " (28, 4),\n",
       " (42, 4),\n",
       " (44, 4),\n",
       " (23, 4),\n",
       " (50, 4),\n",
       " (17, 3),\n",
       " (4, 3),\n",
       " (48, 3),\n",
       " (33, 3),\n",
       " (1, 3),\n",
       " (40, 3),\n",
       " (16, 3),\n",
       " (36, 3),\n",
       " (34, 3),\n",
       " (43, 3),\n",
       " (32, 3),\n",
       " (11, 2),\n",
       " (8, 2),\n",
       " (39, 1)]"
      ]
     },
     "execution_count": 60,
     "metadata": {},
     "output_type": "execute_result"
    }
   ],
   "source": [
    "total_items = sales_data.countByKey()\n",
    "sorted(total_items.items(),key=lambda kv:kv[1],reverse=True)"
   ]
  },
  {
   "cell_type": "markdown",
   "metadata": {},
   "source": [
    "### Additional Reading\n",
    "\n",
    "- [The original paper on RDDs](https://cs.stanford.edu/~matei/papers/2012/nsdi_spark.pdf)\n",
    "- [RDDs in Apache Spark](https://data-flair.training/blogs/create-rdds-in-apache-spark/)\n",
    "- [Programming with RDDs](https://runawayhorse001.github.io/LearningApacheSpark/rdd.html)\n",
    "- [RDD Transformations and Actions Summary](https://www.analyticsvidhya.com/blog/2016/10/using-pyspark-to-perform-transformations-and-actions-on-rdd/)"
   ]
  },
  {
   "cell_type": "markdown",
   "metadata": {},
   "source": [
    "## Summary\n",
    "\n",
    "In this lab we went through a brief introduction to RDD creation from a Python collection, setting a number of logical partitions for an RDD, and extracting lineage and of an RDD in a spark application. We also used transformations and actions to perform calculations across RDDs on a distributed setup. Up next, you'll get the chance to apply these transformations on different books to calculate word counts and various statistics.\n"
   ]
  }
 ],
 "metadata": {
  "kernelspec": {
   "display_name": "Python 3",
   "language": "python",
   "name": "python3"
  },
  "language_info": {
   "codemirror_mode": {
    "name": "ipython",
    "version": 3
   },
   "file_extension": ".py",
   "mimetype": "text/x-python",
   "name": "python",
   "nbconvert_exporter": "python",
   "pygments_lexer": "ipython3",
   "version": "3.7.3"
  }
 },
 "nbformat": 4,
 "nbformat_minor": 2
}
